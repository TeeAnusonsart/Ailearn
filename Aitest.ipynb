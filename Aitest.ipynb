{
 "cells": [
  {
   "cell_type": "code",
   "execution_count": 67,
   "id": "0b4e68cf-ac75-443f-b7d2-c81470191d85",
   "metadata": {},
   "outputs": [],
   "source": [
    "#import libraly ที่จะใช้\n",
    "from sklearn.datasets import load_iris\n",
    "import pandas as pd\n",
    "import numpy as np\n",
    "import matplotlib.pyplot as plt\n",
    "from sklearn.model_selection import train_test_split\n",
    "from sklearn.preprocessing import StandardScaler\n",
    "from sklearn.neighbors import KNeighborsClassifier\n",
    "from sklearn import tree\n",
    "from sklearn.neural_network import MLPClassifier"
   ]
  },
  {
   "cell_type": "code",
   "execution_count": 15,
   "id": "e61455d3-7ec4-40ba-9823-1cdc8e35c62a",
   "metadata": {},
   "outputs": [],
   "source": [
    "iris_dataset=load_iris() #load dataset "
   ]
  },
  {
   "cell_type": "code",
   "execution_count": 29,
   "id": "9f733ac1-1920-45c0-b8ef-9dfb0bedf620",
   "metadata": {},
   "outputs": [
    {
     "name": "stdout",
     "output_type": "stream",
     "text": [
      "     0\n",
      "60   1\n",
      "116  2\n",
      "144  2\n",
      "119  2\n",
      "108  2\n",
      "..  ..\n",
      "9    0\n",
      "103  2\n",
      "67   1\n",
      "117  2\n",
      "47   0\n",
      "\n",
      "[105 rows x 1 columns]\n"
     ]
    }
   ],
   "source": [
    "#สร้างdataframe ของfeature เก็บไว้ในตัวแปรx คำตอบเก็บไว้ในy\n",
    "x=pd.DataFrame(iris_dataset.data,columns=iris_dataset.feature_names)\n",
    "y=pd.DataFrame(iris_dataset.target)\n",
    "\n",
    "#แบ่งชุดข้อมูลออกเป็น2ส่วน คือชุดสำหรับ train และสำหรับทดสอบ\n",
    "x_train ,x_test,y_train,y_test=train_test_split(x,y,test_size=0.3,random_state=0)\n",
    "print(y_train)\n"
   ]
  },
  {
   "cell_type": "code",
   "execution_count": 50,
   "id": "f2025df4-5601-4fad-a3ff-2fae9725baaf",
   "metadata": {},
   "outputs": [],
   "source": [
    "#แปลงค่าx_train ให้feature แต่ละอย่างใกล้เคียงกัน\n",
    "sc=StandardScaler()\n",
    "sc.fit(x_train)\n",
    "\n",
    "x_train_std=sc.transform(x_train)\n",
    "x_test_std=sc.transform(x_test)\n",
    "\n",
    "y_train=np.ravel(y_train)\n",
    "y_test=np.ravel(y_test)\n"
   ]
  },
  {
   "cell_type": "code",
   "execution_count": 48,
   "id": "40e9ea70-4a78-4fe9-ba52-c19fa519d861",
   "metadata": {},
   "outputs": [
    {
     "name": "stdout",
     "output_type": "stream",
     "text": [
      "accuracy KNN (train) :0.97\n",
      "accuracy KNN (train) :0.98\n"
     ]
    }
   ],
   "source": [
    "#รูปแบบ Kneighbor คือทำนายผลลัพธ์จากตัวที่อยู่ใกล้ที่สุด\n",
    "knn=KNeighborsClassifier(n_neighbors=3)#หาผลลัพธ์จากค่าที่ใกล้ที่สุด3ตัว\n",
    "knn.fit(x_train_std,y_train)#trainmodel\n",
    "\n",
    "print(\"accuracy KNN (train) :{:.2f}\".format(knn.score(x_train_std,y_train)))\n",
    "print(\"accuracy KNN (train) :{:.2f}\".format(knn.score(x_test_std,y_test)))"
   ]
  },
  {
   "cell_type": "code",
   "execution_count": 73,
   "id": "d1086f1d-a73b-4fd5-bc1c-258cf8a84b94",
   "metadata": {},
   "outputs": [
    {
     "name": "stdout",
     "output_type": "stream",
     "text": [
      "accuracy(train): 1.00\n",
      "accuracy(test): 0.98\n"
     ]
    }
   ],
   "source": [
    "#รูปแบบdecisiontree\n",
    "decision_tree=tree.DecisionTreeClassifier()\n",
    "decision_tree.fit(x_train_std,y_train) #train\n",
    "print(\"accuracy(train): {:.2f}\".format(decision_tree.score(x_train_std,y_train)))\n",
    "print(\"accuracy(test): {:.2f}\".format(decision_tree.score(x_test_std,y_test)))"
   ]
  },
  {
   "cell_type": "code",
   "execution_count": 96,
   "id": "0f648e66-67d2-4b80-bb42-be24bc64a924",
   "metadata": {},
   "outputs": [
    {
     "name": "stdout",
     "output_type": "stream",
     "text": [
      "accuracy(train): 0.79\n",
      "accuracy(test): 0.84\n"
     ]
    },
    {
     "name": "stderr",
     "output_type": "stream",
     "text": [
      "C:\\Users\\MASTER\\anaconda3\\lib\\site-packages\\sklearn\\neural_network\\_multilayer_perceptron.py:692: ConvergenceWarning: Stochastic Optimizer: Maximum iterations (200) reached and the optimization hasn't converged yet.\n",
      "  warnings.warn(\n"
     ]
    }
   ],
   "source": [
    "mlp=MLPClassifier(hidden_layer_sizes=(4,),random_state=0)\n",
    "mlp.fit(x_train_std,y_train)\n",
    "print(\"accuracy(train): {:.2f}\".format(mlp.score(x_train_std,y_train)))\n",
    "print(\"accuracy(test): {:.2f}\".format(mlp.score(x_test_std,y_test)))"
   ]
  },
  {
   "cell_type": "code",
   "execution_count": null,
   "id": "d421cd2f-2ff2-4eb5-aa41-b4c26fb59ebf",
   "metadata": {},
   "outputs": [],
   "source": []
  }
 ],
 "metadata": {
  "kernelspec": {
   "display_name": "Python 3 (ipykernel)",
   "language": "python",
   "name": "python3"
  },
  "language_info": {
   "codemirror_mode": {
    "name": "ipython",
    "version": 3
   },
   "file_extension": ".py",
   "mimetype": "text/x-python",
   "name": "python",
   "nbconvert_exporter": "python",
   "pygments_lexer": "ipython3",
   "version": "3.9.12"
  }
 },
 "nbformat": 4,
 "nbformat_minor": 5
}
